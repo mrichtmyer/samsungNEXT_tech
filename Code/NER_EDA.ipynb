{
 "cells": [
  {
   "cell_type": "markdown",
   "metadata": {},
   "source": [
    "# Exploratory Data Analysis (EDA) for Name Entity Recognition (NER)\n",
    "\n",
    "## Purpose:\n",
    "* Parse and clean data from sample repo\n",
    "* Perform EDA to explore relationships and trends within data prior to machine learning\n",
    "* Phase 1: Data Preparation\n",
    "\n",
    "### Relevant Links:\n",
    "- Data Repo\n",
    "    * https://github.com/davidsbatista/NER-datasets/tree/master/CONLL2003\n",
    "- Description of datasets used historically for NER\n",
    "    * https://www.clips.uantwerpen.be/conll2003/ner/"
   ]
  },
  {
   "cell_type": "code",
   "execution_count": 1,
   "metadata": {},
   "outputs": [],
   "source": [
    "import pandas as pd\n",
    "import numpy as np\n",
    "import matplotlib.pyplot as plt\n",
    "import seaborn as sns\n",
    "sns.set()\n",
    "\n",
    "import re"
   ]
  },
  {
   "cell_type": "code",
   "execution_count": 2,
   "metadata": {},
   "outputs": [],
   "source": [
    "# Open Text File\n",
    "file1 = open('../data/NER-datasets/CONLL2003/train.txt', 'r') \n",
    "# Read in ever line from text file into a list\n",
    "Lines = file1.readlines() "
   ]
  },
  {
   "cell_type": "code",
   "execution_count": 3,
   "metadata": {},
   "outputs": [],
   "source": [
    "# stopword list - borrowed from https://gist.github.com/sebleier/554280\n",
    "# used to remove words with low value\n",
    "stopwords = [\"i\", \"me\", \"my\", \"myself\", \"we\", \"our\", \"ours\", \"ourselves\", \n",
    "             \"you\", \"your\", \"yours\", \"yourself\", \"yourselves\", \"he\", \"him\", \n",
    "             \"his\", \"himself\", \"she\", \"her\", \"hers\", \"herself\", \"it\", \"its\", \n",
    "             \"itself\", \"they\", \"them\", \"their\", \"theirs\", \"themselves\", \"what\", \n",
    "             \"which\", \"who\", \"whom\", \"this\", \"that\", \"these\", \"those\", \"am\", \"is\", \n",
    "             \"are\", \"was\", \"were\", \"be\", \"been\", \"being\", \"have\", \"has\", \"had\", \n",
    "             \"having\", \"do\", \"does\", \"did\", \"doing\", \"a\", \"an\", \"the\", \"and\", \"but\", \n",
    "             \"if\", \"or\", \"because\", \"as\", \"until\", \"while\", \"of\", \"at\", \"by\", \"for\", \n",
    "             \"with\", \"about\", \"against\", \"between\", \"into\", \"through\", \"during\", \n",
    "             \"before\", \"after\", \"above\", \"below\", \"to\", \"from\", \"up\", \"down\", \"in\", \n",
    "             \"out\", \"on\", \"off\", \"over\", \"under\", \"again\", \"further\", \"then\", \"once\", \n",
    "             \"here\", \"there\", \"when\", \"where\", \"why\", \"how\", \"all\", \"any\", \"both\", \n",
    "             \"each\", \"few\", \"more\", \"most\", \"other\", \"some\", \"such\", \"no\", \"nor\", \n",
    "             \"not\", \"only\", \"own\", \"same\", \"so\", \"than\", \"too\", \"very\", \"s\",\" s\", \"t\", \n",
    "             \"can\", \"will\", \"just\", \"don\", \"should\", \"now\"]\n",
    "\n",
    "Stopwords = []\n",
    "\n",
    "# append capitalizations to this list because this process will not lowercase\n",
    "for i in range(0,len(stopwords)):\n",
    "    elem = stopwords[i]\n",
    "    Stopwords.append(elem)\n",
    "    Stopwords.append(elem.capitalize())\n",
    "\n"
   ]
  },
  {
   "cell_type": "code",
   "execution_count": 4,
   "metadata": {},
   "outputs": [],
   "source": [
    "# save changes to visualize steps within process\n",
    "save_text = open('raw_text.txt','w')\n",
    "\n",
    "# pre-allocate list - will append with word/NER pairs\n",
    "word_NER = []\n",
    "\n",
    "# number documents - use later for TF-IDF\n",
    "num_docs = 0\n",
    "\n",
    "for line in range(len(Lines)):\n",
    "    \n",
    "    # read in one line at a time\n",
    "    row_text = Lines[line]\n",
    "    \n",
    "    if row_text == '-DOCSTART- -X- -X- O\\n':\n",
    "        # separate documents - omitting code temporarily based on specs\n",
    "        num_docs += 1\n",
    "        \n",
    "    elif row_text == '\\n':\n",
    "        # separate sentences - omitting code temporarily based on specs\n",
    "        pass\n",
    "    else:\n",
    "        # parse row by spaces and append tuple of word/NER pair\n",
    "        # note: :-2 indexing removes newcharacters\n",
    "        parsed = row_text.split(' ')\n",
    "        word = parsed[0]\n",
    "        NER = parsed[-1][:-2]\n",
    "            \n",
    "        word_NER.append((word, NER))\n",
    "        \n",
    "        # save original text for visualization\n",
    "        save_text.writelines(row_text)\n",
    "\n",
    "# close text file\n",
    "save_text.close()  "
   ]
  },
  {
   "cell_type": "code",
   "execution_count": 5,
   "metadata": {},
   "outputs": [
    {
     "data": {
      "text/html": [
       "<div>\n",
       "<style scoped>\n",
       "    .dataframe tbody tr th:only-of-type {\n",
       "        vertical-align: middle;\n",
       "    }\n",
       "\n",
       "    .dataframe tbody tr th {\n",
       "        vertical-align: top;\n",
       "    }\n",
       "\n",
       "    .dataframe thead th {\n",
       "        text-align: right;\n",
       "    }\n",
       "</style>\n",
       "<table border=\"1\" class=\"dataframe\">\n",
       "  <thead>\n",
       "    <tr style=\"text-align: right;\">\n",
       "      <th></th>\n",
       "      <th>Word</th>\n",
       "      <th>NER</th>\n",
       "    </tr>\n",
       "  </thead>\n",
       "  <tbody>\n",
       "    <tr>\n",
       "      <th>0</th>\n",
       "      <td>EU</td>\n",
       "      <td>B-OR</td>\n",
       "    </tr>\n",
       "    <tr>\n",
       "      <th>1</th>\n",
       "      <td>rejects</td>\n",
       "      <td></td>\n",
       "    </tr>\n",
       "    <tr>\n",
       "      <th>2</th>\n",
       "      <td>German</td>\n",
       "      <td>B-MIS</td>\n",
       "    </tr>\n",
       "    <tr>\n",
       "      <th>3</th>\n",
       "      <td>call</td>\n",
       "      <td></td>\n",
       "    </tr>\n",
       "    <tr>\n",
       "      <th>4</th>\n",
       "      <td>to</td>\n",
       "      <td></td>\n",
       "    </tr>\n",
       "    <tr>\n",
       "      <th>5</th>\n",
       "      <td>boycott</td>\n",
       "      <td></td>\n",
       "    </tr>\n",
       "    <tr>\n",
       "      <th>6</th>\n",
       "      <td>British</td>\n",
       "      <td>B-MIS</td>\n",
       "    </tr>\n",
       "    <tr>\n",
       "      <th>7</th>\n",
       "      <td>lamb</td>\n",
       "      <td></td>\n",
       "    </tr>\n",
       "    <tr>\n",
       "      <th>8</th>\n",
       "      <td>.</td>\n",
       "      <td></td>\n",
       "    </tr>\n",
       "    <tr>\n",
       "      <th>9</th>\n",
       "      <td>Peter</td>\n",
       "      <td>B-PE</td>\n",
       "    </tr>\n",
       "    <tr>\n",
       "      <th>10</th>\n",
       "      <td>Blackburn</td>\n",
       "      <td>I-PE</td>\n",
       "    </tr>\n",
       "    <tr>\n",
       "      <th>11</th>\n",
       "      <td>BRUSSELS</td>\n",
       "      <td>B-LO</td>\n",
       "    </tr>\n",
       "    <tr>\n",
       "      <th>12</th>\n",
       "      <td>1996-08-22</td>\n",
       "      <td></td>\n",
       "    </tr>\n",
       "    <tr>\n",
       "      <th>13</th>\n",
       "      <td>The</td>\n",
       "      <td></td>\n",
       "    </tr>\n",
       "    <tr>\n",
       "      <th>14</th>\n",
       "      <td>European</td>\n",
       "      <td>B-OR</td>\n",
       "    </tr>\n",
       "    <tr>\n",
       "      <th>15</th>\n",
       "      <td>Commission</td>\n",
       "      <td>I-OR</td>\n",
       "    </tr>\n",
       "    <tr>\n",
       "      <th>16</th>\n",
       "      <td>said</td>\n",
       "      <td></td>\n",
       "    </tr>\n",
       "    <tr>\n",
       "      <th>17</th>\n",
       "      <td>on</td>\n",
       "      <td></td>\n",
       "    </tr>\n",
       "    <tr>\n",
       "      <th>18</th>\n",
       "      <td>Thursday</td>\n",
       "      <td></td>\n",
       "    </tr>\n",
       "    <tr>\n",
       "      <th>19</th>\n",
       "      <td>it</td>\n",
       "      <td></td>\n",
       "    </tr>\n",
       "  </tbody>\n",
       "</table>\n",
       "</div>"
      ],
      "text/plain": [
       "          Word    NER\n",
       "0           EU   B-OR\n",
       "1      rejects       \n",
       "2       German  B-MIS\n",
       "3         call       \n",
       "4           to       \n",
       "5      boycott       \n",
       "6      British  B-MIS\n",
       "7         lamb       \n",
       "8            .       \n",
       "9        Peter   B-PE\n",
       "10   Blackburn   I-PE\n",
       "11    BRUSSELS   B-LO\n",
       "12  1996-08-22       \n",
       "13         The       \n",
       "14    European   B-OR\n",
       "15  Commission   I-OR\n",
       "16        said       \n",
       "17          on       \n",
       "18    Thursday       \n",
       "19          it       "
      ]
     },
     "execution_count": 5,
     "metadata": {},
     "output_type": "execute_result"
    }
   ],
   "source": [
    "vocab_df = pd.DataFrame(word_NER,columns=['Word', 'NER'])\n",
    "vocab_df.head(20)"
   ]
  },
  {
   "cell_type": "markdown",
   "metadata": {},
   "source": [
    "## Visualize Incoming Data \n",
    "Plot most common and least common words. \n",
    "\n",
    "__Key findings:__\n",
    "* Most common words are stopwords and punctuation. We will have to remove this to reduce dimensionality in our vector space for a more accurate ML NER model\n",
    "* Least common words occur 1 time and would have low term and document frequencies. These likely will not be captured in validation sets and can be removed as they are similarly noisy"
   ]
  },
  {
   "cell_type": "code",
   "execution_count": 6,
   "metadata": {},
   "outputs": [
    {
     "data": {
      "text/plain": [
       "Text(0.5, 1.0, 'Most commonly extracted \"words\"')"
      ]
     },
     "execution_count": 6,
     "metadata": {},
     "output_type": "execute_result"
    },
    {
     "data": {
      "image/png": "[encoded data removed]",
      "text/plain": [
       "<Figure size 360x504 with 1 Axes>"
      ]
     },
     "metadata": {
      "needs_background": "light"
     },
     "output_type": "display_data"
    }
   ],
   "source": [
    "vocab_df.groupby('Word').count()\\\n",
    "    .sort_values(by='NER',ascending=False).head(30)\\\n",
    "    .plot(kind='barh', figsize=(5,7))\n",
    "plt.title('Most commonly extracted \"words\"',fontsize=16)"
   ]
  },
  {
   "cell_type": "code",
   "execution_count": 7,
   "metadata": {},
   "outputs": [
    {
     "data": {
      "text/plain": [
       "Text(0.5, 1.0, 'Least commonly extracted \"words\"')"
      ]
     },
     "execution_count": 7,
     "metadata": {},
     "output_type": "execute_result"
    },
    {
     "data": {
      "image/png": "[encoded data removed]",
      "text/plain": [
       "<Figure size 360x504 with 1 Axes>"
      ]
     },
     "metadata": {
      "needs_background": "light"
     },
     "output_type": "display_data"
    }
   ],
   "source": [
    "vocab_df.groupby('Word').count()\\\n",
    "    .sort_values(by='NER',ascending=False).tail(30)\\\n",
    "    .plot(kind='barh', figsize=(5,7))\n",
    "plt.title('Least commonly extracted \"words\"',fontsize=16)"
   ]
  },
  {
   "cell_type": "code",
   "execution_count": null,
   "metadata": {},
   "outputs": [],
   "source": []
  },
  {
   "cell_type": "markdown",
   "metadata": {},
   "source": [
    "## Repeat above script, but include new cleaning features\n",
    "* Removes some noise captured above"
   ]
  },
  {
   "cell_type": "code",
   "execution_count": 8,
   "metadata": {},
   "outputs": [],
   "source": [
    "# save changes to visualize steps within process\n",
    "save_text = open('raw_text.txt','w')\n",
    "\n",
    "# pre-allocate list - will append with word/NER pairs\n",
    "word_NER = []\n",
    "\n",
    "# number documents - use later for TF-IDF\n",
    "num_docs = 0\n",
    "\n",
    "for line in range(len(Lines)):\n",
    "    \n",
    "    # read in one line at a time\n",
    "    row_text = Lines[line]\n",
    "    \n",
    "    if row_text == '-DOCSTART- -X- -X- O\\n':\n",
    "        # separate documents - omitting code temporarily based on specs\n",
    "        num_docs += 1\n",
    "        \n",
    "    elif row_text == '\\n':\n",
    "        # separate sentences - omitting code temporarily based on specs\n",
    "        pass\n",
    "    else:\n",
    "        # parse row by spaces and append tuple of word/NER pair\n",
    "        # note: :-2 indexing removes newcharacters\n",
    "        parsed = row_text.split(' ')\n",
    "        word = parsed[0]\n",
    "        NER = parsed[-1][:-1]\n",
    "        \n",
    "        # remove stopwords\n",
    "        if word in stopwords:\n",
    "            word = ' '\n",
    "        elif word.isnumeric():\n",
    "            word = ' '\n",
    "        else:\n",
    "            # remove punctuation\n",
    "            word = re.sub(r'[^\\w\\s]',' ',word)\n",
    "            \n",
    "        word_NER.append((word, NER))\n",
    "        \n",
    "        # save original text for visualization\n",
    "        save_text.writelines(row_text)\n",
    "\n",
    "# close text file\n",
    "save_text.close()  "
   ]
  },
  {
   "cell_type": "code",
   "execution_count": 9,
   "metadata": {},
   "outputs": [
    {
     "data": {
      "text/html": [
       "<div>\n",
       "<style scoped>\n",
       "    .dataframe tbody tr th:only-of-type {\n",
       "        vertical-align: middle;\n",
       "    }\n",
       "\n",
       "    .dataframe tbody tr th {\n",
       "        vertical-align: top;\n",
       "    }\n",
       "\n",
       "    .dataframe thead th {\n",
       "        text-align: right;\n",
       "    }\n",
       "</style>\n",
       "<table border=\"1\" class=\"dataframe\">\n",
       "  <thead>\n",
       "    <tr style=\"text-align: right;\">\n",
       "      <th></th>\n",
       "      <th>Word</th>\n",
       "      <th>NER</th>\n",
       "    </tr>\n",
       "  </thead>\n",
       "  <tbody>\n",
       "    <tr>\n",
       "      <th>0</th>\n",
       "      <td>EU</td>\n",
       "      <td>B-ORG</td>\n",
       "    </tr>\n",
       "    <tr>\n",
       "      <th>1</th>\n",
       "      <td>rejects</td>\n",
       "      <td>O</td>\n",
       "    </tr>\n",
       "    <tr>\n",
       "      <th>2</th>\n",
       "      <td>German</td>\n",
       "      <td>B-MISC</td>\n",
       "    </tr>\n",
       "    <tr>\n",
       "      <th>3</th>\n",
       "      <td>call</td>\n",
       "      <td>O</td>\n",
       "    </tr>\n",
       "    <tr>\n",
       "      <th>4</th>\n",
       "      <td></td>\n",
       "      <td>O</td>\n",
       "    </tr>\n",
       "    <tr>\n",
       "      <th>5</th>\n",
       "      <td>boycott</td>\n",
       "      <td>O</td>\n",
       "    </tr>\n",
       "    <tr>\n",
       "      <th>6</th>\n",
       "      <td>British</td>\n",
       "      <td>B-MISC</td>\n",
       "    </tr>\n",
       "    <tr>\n",
       "      <th>7</th>\n",
       "      <td>lamb</td>\n",
       "      <td>O</td>\n",
       "    </tr>\n",
       "    <tr>\n",
       "      <th>8</th>\n",
       "      <td></td>\n",
       "      <td>O</td>\n",
       "    </tr>\n",
       "    <tr>\n",
       "      <th>9</th>\n",
       "      <td>Peter</td>\n",
       "      <td>B-PER</td>\n",
       "    </tr>\n",
       "  </tbody>\n",
       "</table>\n",
       "</div>"
      ],
      "text/plain": [
       "      Word     NER\n",
       "0       EU   B-ORG\n",
       "1  rejects       O\n",
       "2   German  B-MISC\n",
       "3     call       O\n",
       "4                O\n",
       "5  boycott       O\n",
       "6  British  B-MISC\n",
       "7     lamb       O\n",
       "8                O\n",
       "9    Peter   B-PER"
      ]
     },
     "execution_count": 9,
     "metadata": {},
     "output_type": "execute_result"
    }
   ],
   "source": [
    "# cast this as a pandas dataframe\n",
    "vocab_df = pd.DataFrame(word_NER,columns=['Word', 'NER'])\n",
    "vocab_df.head(10)"
   ]
  },
  {
   "cell_type": "code",
   "execution_count": 10,
   "metadata": {},
   "outputs": [
    {
     "data": {
      "text/html": [
       "<div>\n",
       "<style scoped>\n",
       "    .dataframe tbody tr th:only-of-type {\n",
       "        vertical-align: middle;\n",
       "    }\n",
       "\n",
       "    .dataframe tbody tr th {\n",
       "        vertical-align: top;\n",
       "    }\n",
       "\n",
       "    .dataframe thead th {\n",
       "        text-align: right;\n",
       "    }\n",
       "</style>\n",
       "<table border=\"1\" class=\"dataframe\">\n",
       "  <thead>\n",
       "    <tr style=\"text-align: right;\">\n",
       "      <th></th>\n",
       "      <th>Word</th>\n",
       "      <th>NER</th>\n",
       "    </tr>\n",
       "  </thead>\n",
       "  <tbody>\n",
       "    <tr>\n",
       "      <th>0</th>\n",
       "      <td>EU</td>\n",
       "      <td>B-ORG</td>\n",
       "    </tr>\n",
       "    <tr>\n",
       "      <th>1</th>\n",
       "      <td>German</td>\n",
       "      <td>B-MISC</td>\n",
       "    </tr>\n",
       "    <tr>\n",
       "      <th>2</th>\n",
       "      <td>British</td>\n",
       "      <td>B-MISC</td>\n",
       "    </tr>\n",
       "    <tr>\n",
       "      <th>3</th>\n",
       "      <td>Peter</td>\n",
       "      <td>B-PER</td>\n",
       "    </tr>\n",
       "    <tr>\n",
       "      <th>4</th>\n",
       "      <td>Blackburn</td>\n",
       "      <td>I-PER</td>\n",
       "    </tr>\n",
       "    <tr>\n",
       "      <th>5</th>\n",
       "      <td>BRUSSELS</td>\n",
       "      <td>B-LOC</td>\n",
       "    </tr>\n",
       "    <tr>\n",
       "      <th>6</th>\n",
       "      <td>European</td>\n",
       "      <td>B-ORG</td>\n",
       "    </tr>\n",
       "    <tr>\n",
       "      <th>7</th>\n",
       "      <td>Commission</td>\n",
       "      <td>I-ORG</td>\n",
       "    </tr>\n",
       "    <tr>\n",
       "      <th>8</th>\n",
       "      <td>German</td>\n",
       "      <td>B-MISC</td>\n",
       "    </tr>\n",
       "    <tr>\n",
       "      <th>9</th>\n",
       "      <td>British</td>\n",
       "      <td>B-MISC</td>\n",
       "    </tr>\n",
       "    <tr>\n",
       "      <th>10</th>\n",
       "      <td>Germany</td>\n",
       "      <td>B-LOC</td>\n",
       "    </tr>\n",
       "    <tr>\n",
       "      <th>11</th>\n",
       "      <td>European</td>\n",
       "      <td>B-ORG</td>\n",
       "    </tr>\n",
       "    <tr>\n",
       "      <th>12</th>\n",
       "      <td>Union</td>\n",
       "      <td>I-ORG</td>\n",
       "    </tr>\n",
       "    <tr>\n",
       "      <th>13</th>\n",
       "      <td>Werner</td>\n",
       "      <td>B-PER</td>\n",
       "    </tr>\n",
       "    <tr>\n",
       "      <th>14</th>\n",
       "      <td>Zwingmann</td>\n",
       "      <td>I-PER</td>\n",
       "    </tr>\n",
       "    <tr>\n",
       "      <th>15</th>\n",
       "      <td>Britain</td>\n",
       "      <td>B-LOC</td>\n",
       "    </tr>\n",
       "    <tr>\n",
       "      <th>16</th>\n",
       "      <td>Commission</td>\n",
       "      <td>B-ORG</td>\n",
       "    </tr>\n",
       "    <tr>\n",
       "      <th>17</th>\n",
       "      <td>Nikolaus</td>\n",
       "      <td>B-PER</td>\n",
       "    </tr>\n",
       "    <tr>\n",
       "      <th>18</th>\n",
       "      <td>van</td>\n",
       "      <td>I-PER</td>\n",
       "    </tr>\n",
       "    <tr>\n",
       "      <th>19</th>\n",
       "      <td>der</td>\n",
       "      <td>I-PER</td>\n",
       "    </tr>\n",
       "  </tbody>\n",
       "</table>\n",
       "</div>"
      ],
      "text/plain": [
       "          Word     NER\n",
       "0           EU   B-ORG\n",
       "1       German  B-MISC\n",
       "2      British  B-MISC\n",
       "3        Peter   B-PER\n",
       "4    Blackburn   I-PER\n",
       "5     BRUSSELS   B-LOC\n",
       "6     European   B-ORG\n",
       "7   Commission   I-ORG\n",
       "8       German  B-MISC\n",
       "9      British  B-MISC\n",
       "10     Germany   B-LOC\n",
       "11    European   B-ORG\n",
       "12       Union   I-ORG\n",
       "13      Werner   B-PER\n",
       "14   Zwingmann   I-PER\n",
       "15     Britain   B-LOC\n",
       "16  Commission   B-ORG\n",
       "17    Nikolaus   B-PER\n",
       "18         van   I-PER\n",
       "19         der   I-PER"
      ]
     },
     "execution_count": 10,
     "metadata": {},
     "output_type": "execute_result"
    }
   ],
   "source": [
    "# Data Cleaning\n",
    "# remove spaces and empty strings. drop all nans. \n",
    "vocab_df = vocab_df.replace('',np.nan)\n",
    "vocab_df = vocab_df.replace(' ',np.nan)\n",
    "vocab_df = vocab_df.replace('O',np.nan) # drops all words labeled NER=O which means we should ommit\n",
    "vocab_df = vocab_df.dropna(how='any').reset_index(drop=True)\n",
    "vocab_df.head(20)"
   ]
  },
  {
   "cell_type": "markdown",
   "metadata": {},
   "source": [
    "## Visualize effects of cleaning routines\n",
    "- Key findings:\n",
    "    * Most common words now are about countries and locations\n",
    "    * Top 4 NER categories show nice class balance. Bottom 5 NER categories show class inbalance. Preliminary models should be wary of this"
   ]
  },
  {
   "cell_type": "code",
   "execution_count": 11,
   "metadata": {},
   "outputs": [
    {
     "data": {
      "text/plain": [
       "Text(0.5, 1.0, 'Most commonly extracted \"words\"')"
      ]
     },
     "execution_count": 11,
     "metadata": {},
     "output_type": "execute_result"
    },
    {
     "data": {
      "image/png": "[encoded data removed]",
      "text/plain": [
       "<Figure size 360x504 with 1 Axes>"
      ]
     },
     "metadata": {
      "needs_background": "light"
     },
     "output_type": "display_data"
    }
   ],
   "source": [
    "vocab_df.groupby('Word').count()\\\n",
    "    .sort_values(by='NER',ascending=False).head(30)\\\n",
    "    .plot(kind='barh', figsize=(5,7))\n",
    "plt.title('Most commonly extracted \"words\"',fontsize=16)"
   ]
  },
  {
   "cell_type": "code",
   "execution_count": 12,
   "metadata": {},
   "outputs": [
    {
     "data": {
      "text/plain": [
       "Text(0.5, 1.0, 'Most commonly NER Element')"
      ]
     },
     "execution_count": 12,
     "metadata": {},
     "output_type": "execute_result"
    },
    {
     "data": {
      "image/png": "[encoded data removed]",
      "text/plain": [
       "<Figure size 360x504 with 1 Axes>"
      ]
     },
     "metadata": {
      "needs_background": "light"
     },
     "output_type": "display_data"
    }
   ],
   "source": [
    "vocab_df.groupby('NER').count()\\\n",
    "    .sort_values(by='Word',ascending=False)\\\n",
    "    .plot(kind='barh', figsize=(5,7))\n",
    "plt.title('Most commonly NER Element',fontsize=16)"
   ]
  },
  {
   "cell_type": "markdown",
   "metadata": {},
   "source": [
    "# Functionalize script to clean train, test, and validation data\n",
    "* This enables us to feed in clean data for ML models for part two"
   ]
  },
  {
   "cell_type": "code",
   "execution_count": 13,
   "metadata": {},
   "outputs": [],
   "source": [
    "def cleanText(textdir):\n",
    "    \"\"\"Docstring: cleanText \"\"\"\n",
    "    \n",
    "    # Open Text File\n",
    "    file1 = open(textdir, 'r') \n",
    "    # Read in ever line from text file into a list\n",
    "    Lines = file1.readlines()\n",
    "    \n",
    "    # pre-allocate list - will append with word/NER pairs\n",
    "    word_NER = []\n",
    "\n",
    "    # number documents - use later for TF-IDF\n",
    "    num_docs = 0\n",
    "\n",
    "    for line in range(len(Lines)):\n",
    "\n",
    "        # read in one line at a time\n",
    "        row_text = Lines[line]\n",
    "\n",
    "        if row_text == '-DOCSTART- -X- -X- O\\n':\n",
    "            # separate documents - omitting code temporarily based on specs\n",
    "            num_docs += 1\n",
    "\n",
    "        elif row_text == '\\n':\n",
    "            # separate sentences - omitting code temporarily based on specs\n",
    "            pass\n",
    "        else:\n",
    "            # parse row by spaces and append tuple of word/NER pair\n",
    "            # note: :-2 indexing removes newcharacters\n",
    "            parsed = row_text.split(' ')\n",
    "            word = parsed[0]\n",
    "            NER = parsed[-1][:-1]\n",
    "\n",
    "            # remove stopwords\n",
    "            if word in stopwords:\n",
    "                word = ' '\n",
    "            elif word.isnumeric():\n",
    "                word = ' '\n",
    "            else:\n",
    "                # remove punctuation\n",
    "                word = re.sub(r'[^\\w\\s]',' ',word)\n",
    "\n",
    "            word_NER.append((word, NER))\n",
    "    \n",
    "    # cast this as a pandas dataframe\n",
    "    vocab_df = pd.DataFrame(word_NER,columns=['Word', 'NER'])\n",
    "    \n",
    "    # Data Cleaning\n",
    "    # remove spaces and empty strings. drop all nans. \n",
    "    vocab_df = vocab_df.replace('',np.nan)\n",
    "    vocab_df = vocab_df.replace(' ',np.nan)\n",
    "    vocab_df = vocab_df.replace('O',np.nan) # drops all words labeled NER=O which means we should ommit\n",
    "    vocab_df = vocab_df.dropna(how='any').reset_index(drop=True)\n",
    "\n",
    "    return vocab_df"
   ]
  },
  {
   "cell_type": "markdown",
   "metadata": {},
   "source": [
    "# Save these to be read easily for ML notebook"
   ]
  },
  {
   "cell_type": "code",
   "execution_count": 14,
   "metadata": {},
   "outputs": [],
   "source": [
    "# validation\n",
    "textdir ='../data/NER-datasets/CONLL2003/valid.txt'\n",
    "valid_df = cleanText(textdir).to_csv('valid_df.csv',index=False)\n",
    "\n",
    "# test\n",
    "textdir ='../data/NER-datasets/CONLL2003/test.txt'\n",
    "test_df = cleanText(textdir).to_csv( 'test_df.csv',index=False)\n",
    "\n",
    "# train\n",
    "textdir ='../data/NER-datasets/CONLL2003/train.txt'\n",
    "train = cleanText(textdir).to_csv(   'train_df.csv', index=False)"
   ]
  },
  {
   "cell_type": "code",
   "execution_count": null,
   "metadata": {},
   "outputs": [],
   "source": []
  }
 ],
 "metadata": {
  "kernelspec": {
   "display_name": "Python 3",
   "language": "python",
   "name": "python3"
  },
  "language_info": {
   "codemirror_mode": {
    "name": "ipython",
    "version": 3
   },
   "file_extension": ".py",
   "mimetype": "text/x-python",
   "name": "python",
   "nbconvert_exporter": "python",
   "pygments_lexer": "ipython3",
   "version": "3.7.3"
  }
 },
 "nbformat": 4,
 "nbformat_minor": 2
}
